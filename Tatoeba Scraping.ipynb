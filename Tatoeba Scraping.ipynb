{
 "cells": [
  {
   "cell_type": "code",
   "execution_count": 1,
   "metadata": {},
   "outputs": [],
   "source": [
    "import requests\n",
    "import urllib.request\n",
    "import time\n",
    "from bs4 import BeautifulSoup"
   ]
  },
  {
   "cell_type": "code",
   "execution_count": 2,
   "metadata": {},
   "outputs": [],
   "source": [
    "bilingual_data = []\n",
    "headers = requests.utils.default_headers()\n",
    "headers['User-Agent'] = 'Mozilla/5.0 (X11; Linux x86_64) AppleWebKit/537.36 (KHTML, like Gecko) Chrome/56.0.2924.87 Safari/537.36'\n",
    "r = requests.get('https://academic.oup.com/journals', headers=headers)"
   ]
  },
  {
   "cell_type": "code",
   "execution_count": 23,
   "metadata": {},
   "outputs": [],
   "source": [
    "url = \"https://glosbe.com/en/kha/after\"\n",
    "response = requests.get(url,headers=headers)\n",
    "soup = BeautifulSoup(response.text, \"html.parser\")\n",
    "results = soup.findAll(\"div\", attrs={'class': 'tableRow row-fluid'})\n",
    "records = []\n",
    "\n",
    "for each in results:\n",
    "    try:\n",
    "        #print(result)\n",
    "        kha = each.find('div', attrs={'class':'span6', 'lang':'kha'}).text # result not results\n",
    "        eng = each.find('div', attrs={'class':'span6', 'lang':'en'}).text\n",
    "    except:\n",
    "        print(\"!!!!!!!!Cannot fetch page!!!!!!!!!\")\n",
    "        continue\n",
    "    records.append((kha, eng))\n"
   ]
  },
  {
   "cell_type": "code",
   "execution_count": 26,
   "metadata": {},
   "outputs": [
    {
     "data": {
      "text/plain": [
       "['jw2019kha (Mathaios 15:30, 31; Ioannis 5:28) Hadien ba u Jisu u la ïap, U Blei u la ai biang ha u ïa ka jingim ba kynja mynsiem.',\n",
       " 'en (Matthew 15:30, 31; John 5:28) After Jesus died, God restored him to life as a spirit person.',\n",
       " 'jw2019kha Pynkhuid da la ka mon sngewbha hadien ka jingïalang.',\n",
       " 'en Volunteer after a meeting to do some cleaning.',\n",
       " 'jw2019kha Ka pyrthei kan long kumno hadien ba la weng noh ïa u nongsynshar jong ka?',\n",
       " 'en What will the world be like after its ruler is removed?',\n",
       " 'tatoebakha Namar ka bit iaka ka para jong ka, ngam nang pyniapher ia ki.',\n",
       " 'en Because she takes after her younger sister, I cannot tell one from the other.',\n",
       " 'jw2019kha Hadien ka Armagedon, yn sa pynlong ïa ka pyrthei ka Paradais',\n",
       " 'en After Armageddon, earth will be made into a paradise',\n",
       " 'jw2019kha BALEI KUM KANE KA JINGKYLLI KA MIH: Bun na ki niam jong ka pyrthei ki hikai ba ka mynsiem ka im sah wat la u briew ula ïap.',\n",
       " 'en WHY THE QUESTION ARISES: Most of the world’s religions teach that something inside a person continues living after death.',\n",
       " 'jw2019kha Hato, ha ka por mynstep ne ynda la miet haba la thiah ki khun?',\n",
       " 'en Is it in the early morning before starting your day’s work or later in the evening after the children have gone to bed?',\n",
       " 'jw2019kha Ha man la kawei pa kawei ka jingkylli don ki dak jingkheiñ jong ka paragrap ba la ai hapoh braket ha kaba phin shem ïa ki jubab.',\n",
       " 'en In parentheses after each question, you will find the numbers of the paragraphs in which the answers are found.',\n",
       " 'jw2019kha Hadien ba phi la aiti ïalade sha U Blei, phi dei ban shah pynbaptis noh da kaba pynngam hapoh um.',\n",
       " 'en After you have made your dedication to God, you should be baptized.',\n",
       " 'jw2019kha Ka long namar iangi la kha ha ka pop. U Adam u lah tamsneng ia U Blei, bad na kata ka daw ka pop bad ka jingiap ka hiar pateng na u.',\n",
       " 'en It is because all of us were born after Adam’s disobedience, and so we all inherited sin and death from him.',\n",
       " 'jw2019kha Hadien ka jingïap jong u Jisu, la jia aïu ïa ka jingshisha jong ka Baibl?',\n",
       " 'en After the death of Christ, what happened to Bible truth?',\n",
       " 'jw2019kha Hadien man ki jingïalang, ki para bangeit ki kmen ban ïatreilang ban pynkhuid ïa ka Ïing Hima.',\n",
       " 'en After each meeting, brothers and sisters happily do a light cleaning to tidy up the Kingdom Hall.',\n",
       " 'jw2019kha Nigeria, hashuwa bad hadien',\n",
       " 'en Nigeria, before and after',\n",
       " 'jw2019kha Hadien ka jingkren ka don ka Jingpule na “Ka Kut Ap Phira” kaba shikynta ha kaba ki dkhot ka balang ki lah ban ai jubab na ka Kut Ap Phira (ha ka Phareng).',\n",
       " 'en After the discourse, there is a one-hour “Watchtower” Study, in which members of the congregation are welcome to participate in a discussion of an article from the study edition of The Watchtower.',\n",
       " 'tatoebakha U Tom u ioh mih na patok hadien 30 snem.',\n",
       " 'en Tom got out of prison after 30 years.',\n",
       " 'tatoebakha Ka bha bha ban shongthait hadien ka jingiaid bajrong.',\n",
       " \"en It's so good to take a rest after a long voyage.\",\n",
       " 'jw2019kha Hadien ba phi la aiti ïalade, U Jehobah un khmih lynti ïa phi ba phin im katkum ka jingkular jong phi.',\n",
       " 'en After you have made a dedication, Jehovah will expect you to live up to your promise.',\n",
       " 'jw2019kha (Salm 146:4; Eklesiastis 9:5, 10) Kano kano kaba don jingim ka ïap, kam lah ban im biang hadien ka jingïap.',\n",
       " 'en (Psalm 146:4; Ecclesiastes 9:5, 10) The soul dies; it does not live on after death.',\n",
       " 'jw2019kha Kum ka nuksa, kaba tip ïa ka jingshisha shaphang yn jia aiu ynda ngi lah ïap ka pyllait luid ïa ngi na ka jingtieng kaba ki nongiap kin pynmynsaw ïa ngi lane ki bahaiing ne ki paralok kiba don ha jingsha shitom.',\n",
       " 'en For example, knowing the truth about what happens after we die frees us from fear that the dead can harm us or that our dead relatives and friends are suffering.',\n",
       " 'jw2019kha Hadien ka pop bad ka jingiap ka la wan sha ka pyrthei, U Blei u la pynpaw ba ka long ka jingthmu jong u, ba kiba iap kin ioh biang ia ka jingim da ka jingmihpat.',\n",
       " 'en After sin and death entered the world, God revealed that it was his purpose that the dead be restored to life by means of a resurrection.',\n",
       " 'jw2019kha Ynda U Blei u la weng noh ia ki jingsniew bad jingjynjar, ka pyrthei kan sa kylla long ka paradais.',\n",
       " 'en After God removes wickedness and suffering, the earth will be transformed into a paradise.',\n",
       " 'jw2019kha Wat hapdeng ki jingeh bad ka jingthait hadien ba la wan trei, balei ki Nongsakhi U Jehobah ki pyrshang katba lah ban leit sha ki jingïalang?',\n",
       " 'en Despite challenges of life and tiredness after a day’s work, why do Jehovah’s Witnesses make such an effort to associate with fellow believers?',\n",
       " 'jw2019kha Phi lah ban rwai ïa kito ki jingrwai kiba phin sa rwai ha ki jingïalang bad nangta, phi lah ban ïa dih sha sngewbha.',\n",
       " 'en You may enjoy practicing the songs that will be sung at the meetings and having some refreshments after family worship.',\n",
       " 'tatoebakha Nga tharai ngan sa bunkam bha, tangba hadien ka test ngan sa ioh por kham bun.',\n",
       " \"en I think I'll be very busy, but after the test I will have more time.\",\n",
       " 'jw2019kha Ka Baibl ka ïathuhlypa ba hadien ka jingïap ki apostol ki jinghikai ba bakla bad ki jingleh ki bymïahap bad ki jinglong Khristan, kin rung suki suki hapoh ka balang Khristan.',\n",
       " 'en The Bible foretold that after the death of the apostles, wrong teachings and unchristian practices would slowly come into the Christian congregation.']"
      ]
     },
     "execution_count": 26,
     "metadata": {},
     "output_type": "execute_result"
    }
   ],
   "source": [
    "records\n",
    "flattened = [val for sublist in records for val in sublist]\n",
    "flattened"
   ]
  },
  {
   "cell_type": "code",
   "execution_count": 27,
   "metadata": {},
   "outputs": [
    {
     "data": {
      "text/plain": [
       "'jw2019kha (Mathaios 15:30, 31; Ioannis 5:28) Hadien ba u Jisu u la ïap, U Blei u la ai biang ha u ïa ka jingim ba kynja mynsiem.'"
      ]
     },
     "execution_count": 27,
     "metadata": {},
     "output_type": "execute_result"
    }
   ],
   "source": [
    "flattened[0]"
   ]
  },
  {
   "cell_type": "code",
   "execution_count": 32,
   "metadata": {},
   "outputs": [],
   "source": [
    "kha = []\n",
    "en = []\n",
    "for i in range(len(flattened)):\n",
    "    if i%2 ==0:\n",
    "        kha.append(flattened[i])\n",
    "    else:\n",
    "        en.append(flattened[i])\n"
   ]
  },
  {
   "cell_type": "code",
   "execution_count": 33,
   "metadata": {},
   "outputs": [
    {
     "data": {
      "text/plain": [
       "['jw2019kha (Mathaios 15:30, 31; Ioannis 5:28) Hadien ba u Jisu u la ïap, U Blei u la ai biang ha u ïa ka jingim ba kynja mynsiem.',\n",
       " 'jw2019kha Pynkhuid da la ka mon sngewbha hadien ka jingïalang.',\n",
       " 'jw2019kha Ka pyrthei kan long kumno hadien ba la weng noh ïa u nongsynshar jong ka?',\n",
       " 'tatoebakha Namar ka bit iaka ka para jong ka, ngam nang pyniapher ia ki.',\n",
       " 'jw2019kha Hadien ka Armagedon, yn sa pynlong ïa ka pyrthei ka Paradais',\n",
       " 'jw2019kha BALEI KUM KANE KA JINGKYLLI KA MIH: Bun na ki niam jong ka pyrthei ki hikai ba ka mynsiem ka im sah wat la u briew ula ïap.',\n",
       " 'jw2019kha Hato, ha ka por mynstep ne ynda la miet haba la thiah ki khun?',\n",
       " 'jw2019kha Ha man la kawei pa kawei ka jingkylli don ki dak jingkheiñ jong ka paragrap ba la ai hapoh braket ha kaba phin shem ïa ki jubab.',\n",
       " 'jw2019kha Hadien ba phi la aiti ïalade sha U Blei, phi dei ban shah pynbaptis noh da kaba pynngam hapoh um.',\n",
       " 'jw2019kha Ka long namar iangi la kha ha ka pop. U Adam u lah tamsneng ia U Blei, bad na kata ka daw ka pop bad ka jingiap ka hiar pateng na u.',\n",
       " 'jw2019kha Hadien ka jingïap jong u Jisu, la jia aïu ïa ka jingshisha jong ka Baibl?',\n",
       " 'jw2019kha Hadien man ki jingïalang, ki para bangeit ki kmen ban ïatreilang ban pynkhuid ïa ka Ïing Hima.',\n",
       " 'jw2019kha Nigeria, hashuwa bad hadien',\n",
       " 'jw2019kha Hadien ka jingkren ka don ka Jingpule na “Ka Kut Ap Phira” kaba shikynta ha kaba ki dkhot ka balang ki lah ban ai jubab na ka Kut Ap Phira (ha ka Phareng).',\n",
       " 'tatoebakha U Tom u ioh mih na patok hadien 30 snem.',\n",
       " 'tatoebakha Ka bha bha ban shongthait hadien ka jingiaid bajrong.',\n",
       " 'jw2019kha Hadien ba phi la aiti ïalade, U Jehobah un khmih lynti ïa phi ba phin im katkum ka jingkular jong phi.',\n",
       " 'jw2019kha (Salm 146:4; Eklesiastis 9:5, 10) Kano kano kaba don jingim ka ïap, kam lah ban im biang hadien ka jingïap.',\n",
       " 'jw2019kha Kum ka nuksa, kaba tip ïa ka jingshisha shaphang yn jia aiu ynda ngi lah ïap ka pyllait luid ïa ngi na ka jingtieng kaba ki nongiap kin pynmynsaw ïa ngi lane ki bahaiing ne ki paralok kiba don ha jingsha shitom.',\n",
       " 'jw2019kha Hadien ka pop bad ka jingiap ka la wan sha ka pyrthei, U Blei u la pynpaw ba ka long ka jingthmu jong u, ba kiba iap kin ioh biang ia ka jingim da ka jingmihpat.',\n",
       " 'jw2019kha Ynda U Blei u la weng noh ia ki jingsniew bad jingjynjar, ka pyrthei kan sa kylla long ka paradais.',\n",
       " 'jw2019kha Wat hapdeng ki jingeh bad ka jingthait hadien ba la wan trei, balei ki Nongsakhi U Jehobah ki pyrshang katba lah ban leit sha ki jingïalang?',\n",
       " 'jw2019kha Phi lah ban rwai ïa kito ki jingrwai kiba phin sa rwai ha ki jingïalang bad nangta, phi lah ban ïa dih sha sngewbha.',\n",
       " 'tatoebakha Nga tharai ngan sa bunkam bha, tangba hadien ka test ngan sa ioh por kham bun.',\n",
       " 'jw2019kha Ka Baibl ka ïathuhlypa ba hadien ka jingïap ki apostol ki jinghikai ba bakla bad ki jingleh ki bymïahap bad ki jinglong Khristan, kin rung suki suki hapoh ka balang Khristan.']"
      ]
     },
     "execution_count": 33,
     "metadata": {},
     "output_type": "execute_result"
    }
   ],
   "source": [
    "kha"
   ]
  },
  {
   "cell_type": "code",
   "execution_count": 35,
   "metadata": {},
   "outputs": [
    {
     "data": {
      "text/plain": [
       "['en (Matthew 15:30, 31; John 5:28) After Jesus died, God restored him to life as a spirit person.',\n",
       " 'en Volunteer after a meeting to do some cleaning.',\n",
       " 'en What will the world be like after its ruler is removed?',\n",
       " 'en Because she takes after her younger sister, I cannot tell one from the other.',\n",
       " 'en After Armageddon, earth will be made into a paradise',\n",
       " 'en WHY THE QUESTION ARISES: Most of the world’s religions teach that something inside a person continues living after death.',\n",
       " 'en Is it in the early morning before starting your day’s work or later in the evening after the children have gone to bed?',\n",
       " 'en In parentheses after each question, you will find the numbers of the paragraphs in which the answers are found.',\n",
       " 'en After you have made your dedication to God, you should be baptized.',\n",
       " 'en It is because all of us were born after Adam’s disobedience, and so we all inherited sin and death from him.',\n",
       " 'en After the death of Christ, what happened to Bible truth?',\n",
       " 'en After each meeting, brothers and sisters happily do a light cleaning to tidy up the Kingdom Hall.',\n",
       " 'en Nigeria, before and after',\n",
       " 'en After the discourse, there is a one-hour “Watchtower” Study, in which members of the congregation are welcome to participate in a discussion of an article from the study edition of The Watchtower.',\n",
       " 'en Tom got out of prison after 30 years.',\n",
       " \"en It's so good to take a rest after a long voyage.\",\n",
       " 'en After you have made a dedication, Jehovah will expect you to live up to your promise.',\n",
       " 'en (Psalm 146:4; Ecclesiastes 9:5, 10) The soul dies; it does not live on after death.',\n",
       " 'en For example, knowing the truth about what happens after we die frees us from fear that the dead can harm us or that our dead relatives and friends are suffering.',\n",
       " 'en After sin and death entered the world, God revealed that it was his purpose that the dead be restored to life by means of a resurrection.',\n",
       " 'en After God removes wickedness and suffering, the earth will be transformed into a paradise.',\n",
       " 'en Despite challenges of life and tiredness after a day’s work, why do Jehovah’s Witnesses make such an effort to associate with fellow believers?',\n",
       " 'en You may enjoy practicing the songs that will be sung at the meetings and having some refreshments after family worship.',\n",
       " \"en I think I'll be very busy, but after the test I will have more time.\",\n",
       " 'en The Bible foretold that after the death of the apostles, wrong teachings and unchristian practices would slowly come into the Christian congregation.']"
      ]
     },
     "execution_count": 35,
     "metadata": {},
     "output_type": "execute_result"
    }
   ],
   "source": [
    "en"
   ]
  },
  {
   "cell_type": "code",
   "execution_count": null,
   "metadata": {},
   "outputs": [],
   "source": []
  }
 ],
 "metadata": {
  "kernelspec": {
   "display_name": "Python 3",
   "language": "python",
   "name": "python3"
  },
  "language_info": {
   "codemirror_mode": {
    "name": "ipython",
    "version": 3
   },
   "file_extension": ".py",
   "mimetype": "text/x-python",
   "name": "python",
   "nbconvert_exporter": "python",
   "pygments_lexer": "ipython3",
   "version": "3.7.3"
  }
 },
 "nbformat": 4,
 "nbformat_minor": 2
}
